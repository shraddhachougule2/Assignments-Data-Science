{
 "cells": [
  {
   "cell_type": "code",
   "execution_count": 1,
   "id": "15b5ab96",
   "metadata": {
    "ExecuteTime": {
     "end_time": "2023-03-18T19:06:38.981210Z",
     "start_time": "2023-03-18T19:06:38.117465Z"
    }
   },
   "outputs": [],
   "source": [
    "from scipy import stats"
   ]
  },
  {
   "cell_type": "code",
   "execution_count": 2,
   "id": "f5eabf2c",
   "metadata": {
    "ExecuteTime": {
     "end_time": "2023-03-18T19:06:42.807659Z",
     "start_time": "2023-03-18T19:06:42.792435Z"
    }
   },
   "outputs": [],
   "source": [
    "from scipy.stats import norm"
   ]
  },
  {
   "cell_type": "code",
   "execution_count": 3,
   "id": "6dfed639",
   "metadata": {
    "ExecuteTime": {
     "end_time": "2023-03-18T19:06:48.717042Z",
     "start_time": "2023-03-18T19:06:48.701915Z"
    }
   },
   "outputs": [],
   "source": [
    "# null hypothesis H0=bulb life is >=260\n",
    "#alternate hypothesis H1=bulb life is < 26"
   ]
  },
  {
   "cell_type": "code",
   "execution_count": 4,
   "id": "9cd2960c",
   "metadata": {
    "ExecuteTime": {
     "end_time": "2023-03-18T19:06:56.570800Z",
     "start_time": "2023-03-18T19:06:56.530417Z"
    }
   },
   "outputs": [
    {
     "data": {
      "text/plain": [
       "-0.4714045207910317"
      ]
     },
     "execution_count": 4,
     "metadata": {},
     "output_type": "execute_result"
    }
   ],
   "source": [
    "# find t-scores at x=260 Meu=270 SD=90 n=18\n",
    "t=(260-270)/(90/18**0.5)\n",
    "t"
   ]
  },
  {
   "cell_type": "code",
   "execution_count": 5,
   "id": "97410a30",
   "metadata": {
    "ExecuteTime": {
     "end_time": "2023-03-18T19:07:03.305800Z",
     "start_time": "2023-03-18T19:07:03.281768Z"
    }
   },
   "outputs": [
    {
     "data": {
      "text/plain": [
       "0.32167411684460556"
      ]
     },
     "execution_count": 5,
     "metadata": {},
     "output_type": "execute_result"
    }
   ],
   "source": [
    "p_value=1-stats.t.cdf(abs(-0.4714),df=17)#cdf function gives p value\n",
    "p_value"
   ]
  },
  {
   "cell_type": "code",
   "execution_count": null,
   "id": "300d72ce",
   "metadata": {},
   "outputs": [],
   "source": []
  }
 ],
 "metadata": {
  "kernelspec": {
   "display_name": "Python 3 (ipykernel)",
   "language": "python",
   "name": "python3"
  },
  "language_info": {
   "codemirror_mode": {
    "name": "ipython",
    "version": 3
   },
   "file_extension": ".py",
   "mimetype": "text/x-python",
   "name": "python",
   "nbconvert_exporter": "python",
   "pygments_lexer": "ipython3",
   "version": "3.9.12"
  }
 },
 "nbformat": 4,
 "nbformat_minor": 5
}
