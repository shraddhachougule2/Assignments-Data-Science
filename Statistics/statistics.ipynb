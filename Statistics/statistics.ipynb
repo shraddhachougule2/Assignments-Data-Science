{
 "cells": [
  {
   "cell_type": "code",
   "execution_count": 1,
   "id": "4033f275",
   "metadata": {
    "ExecuteTime": {
     "end_time": "2023-03-18T18:49:32.699645Z",
     "start_time": "2023-03-18T18:49:30.149299Z"
    }
   },
   "outputs": [
    {
     "data": {
      "text/plain": [
       "0.625"
      ]
     },
     "execution_count": 1,
     "metadata": {},
     "output_type": "execute_result"
    }
   ],
   "source": [
    "from scipy import stats\n",
    "from scipy.stats import norm\n",
    "\n",
    "\n",
    "     \n",
    "\n",
    "# Find Z-Scores at X=50; Z = (X - µ) / σ \n",
    "Z=(50-45)/8\n",
    "Z"
   ]
  },
  {
   "cell_type": "code",
   "execution_count": 2,
   "id": "292950a8",
   "metadata": {
    "ExecuteTime": {
     "end_time": "2023-03-18T18:49:32.736112Z",
     "start_time": "2023-03-18T18:49:32.709658Z"
    }
   },
   "outputs": [
    {
     "data": {
      "text/plain": [
       "0.26598552904870054"
      ]
     },
     "execution_count": 2,
     "metadata": {},
     "output_type": "execute_result"
    }
   ],
   "source": [
    "# Find probability P(X>50) = 1-stats.norm.cdf(abs(z_score))\n",
    "1-stats.norm.cdf(abs(0.625))"
   ]
  },
  {
   "cell_type": "code",
   "execution_count": 3,
   "id": "c202b45b",
   "metadata": {
    "ExecuteTime": {
     "end_time": "2023-03-18T18:49:39.368239Z",
     "start_time": "2023-03-18T18:49:39.346243Z"
    }
   },
   "outputs": [
    {
     "data": {
      "text/plain": [
       "0.7340144709512995"
      ]
     },
     "execution_count": 3,
     "metadata": {},
     "output_type": "execute_result"
    }
   ],
   "source": [
    "# OR Find probability P(X<=50); p_value=stats.norm.cdf(abs(z_score))  \n",
    "p_value=stats.norm.cdf(abs(0.625)) \n",
    "p_value"
   ]
  },
  {
   "cell_type": "code",
   "execution_count": 4,
   "id": "f37269d1",
   "metadata": {
    "ExecuteTime": {
     "end_time": "2023-03-18T18:49:46.347412Z",
     "start_time": "2023-03-18T18:49:46.332481Z"
    }
   },
   "outputs": [
    {
     "data": {
      "text/plain": [
       "0.266"
      ]
     },
     "execution_count": 4,
     "metadata": {},
     "output_type": "execute_result"
    }
   ],
   "source": [
    "# P(X>50) = 1 - P(X<=50)\n",
    "1-0.734\n"
   ]
  },
  {
   "cell_type": "code",
   "execution_count": null,
   "id": "48d887cb",
   "metadata": {},
   "outputs": [],
   "source": []
  }
 ],
 "metadata": {
  "kernelspec": {
   "display_name": "Python 3 (ipykernel)",
   "language": "python",
   "name": "python3"
  },
  "language_info": {
   "codemirror_mode": {
    "name": "ipython",
    "version": 3
   },
   "file_extension": ".py",
   "mimetype": "text/x-python",
   "name": "python",
   "nbconvert_exporter": "python",
   "pygments_lexer": "ipython3",
   "version": "3.9.12"
  }
 },
 "nbformat": 4,
 "nbformat_minor": 5
}
