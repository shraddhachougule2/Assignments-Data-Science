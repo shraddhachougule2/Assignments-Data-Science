{
 "cells": [
  {
   "cell_type": "code",
   "execution_count": 1,
   "id": "04a4bc2a",
   "metadata": {
    "ExecuteTime": {
     "end_time": "2023-03-18T19:15:27.002559Z",
     "start_time": "2023-03-18T19:15:26.954934Z"
    }
   },
   "outputs": [],
   "source": [
    "import numpy as np\n",
    "from scipy import stats\n",
    "from scipy.stats import norm"
   ]
  },
  {
   "cell_type": "code",
   "execution_count": 2,
   "id": "80a15c87",
   "metadata": {
    "ExecuteTime": {
     "end_time": "2023-03-18T19:15:29.277103Z",
     "start_time": "2023-03-18T19:15:29.253702Z"
    }
   },
   "outputs": [],
   "source": [
    "# For No investigation P(45\n",
    "# For Investigation 1-P(45"
   ]
  },
  {
   "cell_type": "code",
   "execution_count": 3,
   "id": "540e4c94",
   "metadata": {
    "ExecuteTime": {
     "end_time": "2023-03-18T19:15:38.393935Z",
     "start_time": "2023-03-18T19:15:38.351644Z"
    }
   },
   "outputs": [
    {
     "data": {
      "text/plain": [
       "-1.25"
      ]
     },
     "execution_count": 3,
     "metadata": {},
     "output_type": "execute_result"
    }
   ],
   "source": [
    "# find z-scores at x=45; z=(s_mean-P_mean)/(p_SD/sqrt(n))\n",
    "z=(45-50)/(40/100**0.5)\n",
    "z"
   ]
  },
  {
   "cell_type": "code",
   "execution_count": 4,
   "id": "2776052c",
   "metadata": {
    "ExecuteTime": {
     "end_time": "2023-03-18T19:15:46.214991Z",
     "start_time": "2023-03-18T19:15:46.186608Z"
    }
   },
   "outputs": [
    {
     "data": {
      "text/plain": [
       "1.25"
      ]
     },
     "execution_count": 4,
     "metadata": {},
     "output_type": "execute_result"
    }
   ],
   "source": [
    "# find z-scores at x=55; z=(s_mean-P_mean)/(p_SD/sqrt(n))\n",
    "z=(55-50)/(40/100**0.5)\n",
    "z"
   ]
  },
  {
   "cell_type": "code",
   "execution_count": 5,
   "id": "3bb77430",
   "metadata": {
    "ExecuteTime": {
     "end_time": "2023-03-18T19:15:57.970905Z",
     "start_time": "2023-03-18T19:15:57.946351Z"
    }
   },
   "outputs": [
    {
     "data": {
      "text/plain": [
       "0.7887004526662893"
      ]
     },
     "execution_count": 5,
     "metadata": {},
     "output_type": "execute_result"
    }
   ],
   "source": [
    "# For No investigation P(45\n",
    "stats.norm.cdf(1.25)-stats.norm.cdf(-1.25)\n"
   ]
  },
  {
   "cell_type": "code",
   "execution_count": 6,
   "id": "8b1e4987",
   "metadata": {
    "ExecuteTime": {
     "end_time": "2023-03-18T19:16:07.403936Z",
     "start_time": "2023-03-18T19:16:07.380773Z"
    }
   },
   "outputs": [
    {
     "data": {
      "text/plain": [
       "(45.00000495667348, 54.99999504332652)"
      ]
     },
     "execution_count": 6,
     "metadata": {},
     "output_type": "execute_result"
    }
   ],
   "source": [
    "stats.norm.interval(0.7887,loc=50,scale=40/(100**0.5))"
   ]
  },
  {
   "cell_type": "code",
   "execution_count": 7,
   "id": "98f74324",
   "metadata": {
    "ExecuteTime": {
     "end_time": "2023-03-18T19:16:14.287618Z",
     "start_time": "2023-03-18T19:16:14.263404Z"
    }
   },
   "outputs": [
    {
     "data": {
      "text/plain": [
       "0.21130000000000004"
      ]
     },
     "execution_count": 7,
     "metadata": {},
     "output_type": "execute_result"
    }
   ],
   "source": [
    "# For Investigation 1-P(45\n",
    "1-0.7887"
   ]
  },
  {
   "cell_type": "markdown",
   "id": "1892e906",
   "metadata": {},
   "source": [
    "# Answer is D. 21.1%"
   ]
  },
  {
   "cell_type": "code",
   "execution_count": null,
   "id": "de653d41",
   "metadata": {},
   "outputs": [],
   "source": []
  }
 ],
 "metadata": {
  "kernelspec": {
   "display_name": "Python 3 (ipykernel)",
   "language": "python",
   "name": "python3"
  },
  "language_info": {
   "codemirror_mode": {
    "name": "ipython",
    "version": 3
   },
   "file_extension": ".py",
   "mimetype": "text/x-python",
   "name": "python",
   "nbconvert_exporter": "python",
   "pygments_lexer": "ipython3",
   "version": "3.9.12"
  }
 },
 "nbformat": 4,
 "nbformat_minor": 5
}
