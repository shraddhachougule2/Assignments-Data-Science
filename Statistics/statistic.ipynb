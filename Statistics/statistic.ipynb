{
 "cells": [
  {
   "cell_type": "code",
   "execution_count": 1,
   "id": "c5b76431",
   "metadata": {
    "ExecuteTime": {
     "end_time": "2023-03-18T19:05:00.115348Z",
     "start_time": "2023-03-18T19:05:00.059992Z"
    }
   },
   "outputs": [],
   "source": [
    "from scipy import stats\n",
    "from scipy.stats import norm"
   ]
  },
  {
   "cell_type": "code",
   "execution_count": 2,
   "id": "547a74d3",
   "metadata": {
    "ExecuteTime": {
     "end_time": "2023-03-18T19:05:03.440282Z",
     "start_time": "2023-03-18T19:05:03.407351Z"
    }
   },
   "outputs": [
    {
     "data": {
      "text/plain": [
       "2.0638985616280205"
      ]
     },
     "execution_count": 2,
     "metadata": {},
     "output_type": "execute_result"
    }
   ],
   "source": [
    "# t scores of 95% confidence interval for sample size of 25\n",
    "stats.t.ppf(0.975,24)  # Al(area under the curve to the left)=1+0.95/2= 0.975, df = n-1 = 24"
   ]
  },
  {
   "cell_type": "code",
   "execution_count": 3,
   "id": "9d19ca4d",
   "metadata": {
    "ExecuteTime": {
     "end_time": "2023-03-18T19:05:11.379871Z",
     "start_time": "2023-03-18T19:05:11.356203Z"
    }
   },
   "outputs": [
    {
     "data": {
      "text/plain": [
       "2.1715446760080677"
      ]
     },
     "execution_count": 3,
     "metadata": {},
     "output_type": "execute_result"
    }
   ],
   "source": [
    "# t scores of 96% confidence interval for sample size of 25\n",
    "stats.t.ppf(0.98,24)  # Al(area under the curve to the left)=1+0.96/2= 0.98, df = n-1 = 24"
   ]
  },
  {
   "cell_type": "code",
   "execution_count": 4,
   "id": "bf58f945",
   "metadata": {
    "ExecuteTime": {
     "end_time": "2023-03-18T19:05:20.091108Z",
     "start_time": "2023-03-18T19:05:20.075073Z"
    }
   },
   "outputs": [
    {
     "data": {
      "text/plain": [
       "2.796939504772804"
      ]
     },
     "execution_count": 4,
     "metadata": {},
     "output_type": "execute_result"
    }
   ],
   "source": [
    "# t scores of 99% confidence interval for sample size of 25\n",
    "stats.t.ppf(0.995,24)  #  Al(area under the curve to the left)=1+0.99/2= 0.995, df = n-1 = 24"
   ]
  },
  {
   "cell_type": "code",
   "execution_count": null,
   "id": "85df1017",
   "metadata": {},
   "outputs": [],
   "source": []
  }
 ],
 "metadata": {
  "kernelspec": {
   "display_name": "Python 3 (ipykernel)",
   "language": "python",
   "name": "python3"
  },
  "language_info": {
   "codemirror_mode": {
    "name": "ipython",
    "version": 3
   },
   "file_extension": ".py",
   "mimetype": "text/x-python",
   "name": "python",
   "nbconvert_exporter": "python",
   "pygments_lexer": "ipython3",
   "version": "3.9.12"
  }
 },
 "nbformat": 4,
 "nbformat_minor": 5
}
