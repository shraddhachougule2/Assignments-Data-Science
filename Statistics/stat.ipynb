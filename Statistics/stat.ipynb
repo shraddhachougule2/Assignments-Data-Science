{
 "cells": [
  {
   "cell_type": "code",
   "execution_count": 3,
   "id": "e260779c",
   "metadata": {
    "ExecuteTime": {
     "end_time": "2023-03-18T19:02:49.214953Z",
     "start_time": "2023-03-18T19:02:49.194637Z"
    }
   },
   "outputs": [],
   "source": [
    "from scipy import stats"
   ]
  },
  {
   "cell_type": "code",
   "execution_count": 5,
   "id": "3ff31a4b",
   "metadata": {
    "ExecuteTime": {
     "end_time": "2023-03-18T19:03:22.745210Z",
     "start_time": "2023-03-18T19:03:22.730589Z"
    }
   },
   "outputs": [],
   "source": [
    "from scipy.stats import norm"
   ]
  },
  {
   "cell_type": "code",
   "execution_count": 6,
   "id": "54a9ee24",
   "metadata": {
    "ExecuteTime": {
     "end_time": "2023-03-18T19:03:24.278968Z",
     "start_time": "2023-03-18T19:03:24.247330Z"
    }
   },
   "outputs": [
    {
     "data": {
      "text/plain": [
       "1.6448536269514722"
      ]
     },
     "execution_count": 6,
     "metadata": {},
     "output_type": "execute_result"
    }
   ],
   "source": [
    "#Z score of 90% confidence innterval \n",
    "stats.norm.ppf(0.95)# Al(area under the curve to the left)=1+0.90/2= 0.95"
   ]
  },
  {
   "cell_type": "code",
   "execution_count": 7,
   "id": "9f3412d0",
   "metadata": {
    "ExecuteTime": {
     "end_time": "2023-03-18T19:03:36.692367Z",
     "start_time": "2023-03-18T19:03:36.668674Z"
    }
   },
   "outputs": [
    {
     "data": {
      "text/plain": [
       "1.8807936081512509"
      ]
     },
     "execution_count": 7,
     "metadata": {},
     "output_type": "execute_result"
    }
   ],
   "source": [
    "#Z score of 94% confidence interval\n",
    "stats.norm.ppf(0.97)# Al(area under the curve to the left)=1+0.94/2= 0.97"
   ]
  },
  {
   "cell_type": "code",
   "execution_count": 8,
   "id": "97be2b8b",
   "metadata": {
    "ExecuteTime": {
     "end_time": "2023-03-18T19:03:46.929770Z",
     "start_time": "2023-03-18T19:03:46.897442Z"
    }
   },
   "outputs": [
    {
     "data": {
      "text/plain": [
       "0.8416212335729143"
      ]
     },
     "execution_count": 8,
     "metadata": {},
     "output_type": "execute_result"
    }
   ],
   "source": [
    "#Z score of 60% confidence interval\n",
    "stats.norm.ppf(0.8)# Al(area under the curve to the left)=1+0.60/2= 0.8"
   ]
  },
  {
   "cell_type": "code",
   "execution_count": null,
   "id": "e593c863",
   "metadata": {},
   "outputs": [],
   "source": []
  }
 ],
 "metadata": {
  "kernelspec": {
   "display_name": "Python 3 (ipykernel)",
   "language": "python",
   "name": "python3"
  },
  "language_info": {
   "codemirror_mode": {
    "name": "ipython",
    "version": 3
   },
   "file_extension": ".py",
   "mimetype": "text/x-python",
   "name": "python",
   "nbconvert_exporter": "python",
   "pygments_lexer": "ipython3",
   "version": "3.9.12"
  }
 },
 "nbformat": 4,
 "nbformat_minor": 5
}
