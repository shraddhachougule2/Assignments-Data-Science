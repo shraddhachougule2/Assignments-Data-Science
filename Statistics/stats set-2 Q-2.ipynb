{
 "cells": [
  {
   "cell_type": "code",
   "execution_count": 1,
   "id": "98f776f1",
   "metadata": {
    "ExecuteTime": {
     "end_time": "2023-03-18T19:13:38.543244Z",
     "start_time": "2023-03-18T19:13:38.515141Z"
    }
   },
   "outputs": [],
   "source": [
    "from scipy import stats\n",
    "from scipy.stats import norm"
   ]
  },
  {
   "cell_type": "code",
   "execution_count": 2,
   "id": "4a7b32aa",
   "metadata": {
    "ExecuteTime": {
     "end_time": "2023-03-18T19:13:41.861625Z",
     "start_time": "2023-03-18T19:13:41.853609Z"
    }
   },
   "outputs": [],
   "source": [
    "# A. More employees at the processing center are older than 44 than between 38 and 44."
   ]
  },
  {
   "cell_type": "code",
   "execution_count": 3,
   "id": "8b42ef4f",
   "metadata": {
    "ExecuteTime": {
     "end_time": "2023-03-18T19:13:48.826825Z",
     "start_time": "2023-03-18T19:13:48.788474Z"
    }
   },
   "outputs": [
    {
     "data": {
      "text/plain": [
       "0.15865525393145707"
      ]
     },
     "execution_count": 3,
     "metadata": {},
     "output_type": "execute_result"
    }
   ],
   "source": [
    "# p(X>44); Employees older than 44 yrs of age\n",
    "1-stats.norm.cdf(44,loc=38,scale=6)"
   ]
  },
  {
   "cell_type": "code",
   "execution_count": 4,
   "id": "d1747d09",
   "metadata": {
    "ExecuteTime": {
     "end_time": "2023-03-18T19:13:57.205095Z",
     "start_time": "2023-03-18T19:13:57.182474Z"
    }
   },
   "outputs": [
    {
     "data": {
      "text/plain": [
       "0.3413447460685429"
      ]
     },
     "execution_count": 4,
     "metadata": {},
     "output_type": "execute_result"
    }
   ],
   "source": [
    "# p(38\n",
    "stats.norm.cdf(44,38,6)-stats.norm.cdf(38,38,6)"
   ]
  },
  {
   "cell_type": "code",
   "execution_count": 5,
   "id": "d65f1021",
   "metadata": {
    "ExecuteTime": {
     "end_time": "2023-03-18T19:14:05.910110Z",
     "start_time": "2023-03-18T19:14:05.894089Z"
    }
   },
   "outputs": [],
   "source": [
    "# B. A training program for employees under the age of 30 at the center would be expected to attract about 36 employees."
   ]
  },
  {
   "cell_type": "code",
   "execution_count": 6,
   "id": "f22d3bc5",
   "metadata": {
    "ExecuteTime": {
     "end_time": "2023-03-18T19:14:13.917998Z",
     "start_time": "2023-03-18T19:14:13.893985Z"
    }
   },
   "outputs": [
    {
     "data": {
      "text/plain": [
       "0.09121121972586788"
      ]
     },
     "execution_count": 6,
     "metadata": {},
     "output_type": "execute_result"
    }
   ],
   "source": [
    "# P(X<30); Employees under 30 yrs of age\n",
    "stats.norm.cdf(30,38,6)"
   ]
  },
  {
   "cell_type": "code",
   "execution_count": 7,
   "id": "8a36b488",
   "metadata": {
    "ExecuteTime": {
     "end_time": "2023-03-18T19:14:20.954183Z",
     "start_time": "2023-03-18T19:14:20.929459Z"
    }
   },
   "outputs": [
    {
     "data": {
      "text/plain": [
       "36.484487890347154"
      ]
     },
     "execution_count": 7,
     "metadata": {},
     "output_type": "execute_result"
    }
   ],
   "source": [
    "# No. of employees attending training program from 400 nos. is N*P(X<30)\n",
    "400*stats.norm.cdf(30,38,6)"
   ]
  },
  {
   "cell_type": "code",
   "execution_count": null,
   "id": "45e4f72b",
   "metadata": {},
   "outputs": [],
   "source": []
  }
 ],
 "metadata": {
  "kernelspec": {
   "display_name": "Python 3 (ipykernel)",
   "language": "python",
   "name": "python3"
  },
  "language_info": {
   "codemirror_mode": {
    "name": "ipython",
    "version": 3
   },
   "file_extension": ".py",
   "mimetype": "text/x-python",
   "name": "python",
   "nbconvert_exporter": "python",
   "pygments_lexer": "ipython3",
   "version": "3.9.12"
  }
 },
 "nbformat": 4,
 "nbformat_minor": 5
}
