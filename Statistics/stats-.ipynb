{
 "cells": [
  {
   "cell_type": "code",
   "execution_count": 1,
   "id": "d44ae7fc",
   "metadata": {
    "ExecuteTime": {
     "end_time": "2023-03-18T18:47:15.883325Z",
     "start_time": "2023-03-18T18:47:15.860194Z"
    }
   },
   "outputs": [],
   "source": [
    "#Assignment-2-Set2-Q5 (Basic Statistic Level-2)"
   ]
  },
  {
   "cell_type": "code",
   "execution_count": 2,
   "id": "80438191",
   "metadata": {
    "ExecuteTime": {
     "end_time": "2023-03-18T18:47:28.237420Z",
     "start_time": "2023-03-18T18:47:28.210643Z"
    }
   },
   "outputs": [],
   "source": [
    "import numpy as np\n",
    "from scipy import stats\n",
    "from scipy.stats import norm"
   ]
  },
  {
   "cell_type": "code",
   "execution_count": 3,
   "id": "7afa689c",
   "metadata": {
    "ExecuteTime": {
     "end_time": "2023-03-18T18:47:29.932250Z",
     "start_time": "2023-03-18T18:47:29.907641Z"
    }
   },
   "outputs": [
    {
     "name": "stdout",
     "output_type": "stream",
     "text": [
      "Mean Profit is Rs 540 Million\n"
     ]
    }
   ],
   "source": [
    "# Mean profits from two different divisions of a company = Mean1 + Mean2\n",
    "Mean = 5+7\n",
    "print('Mean Profit is Rs', Mean*45,'Million')"
   ]
  },
  {
   "cell_type": "code",
   "execution_count": 4,
   "id": "41e9ea2f",
   "metadata": {
    "ExecuteTime": {
     "end_time": "2023-03-18T18:47:37.109936Z",
     "start_time": "2023-03-18T18:47:37.092278Z"
    }
   },
   "outputs": [
    {
     "name": "stdout",
     "output_type": "stream",
     "text": [
      "Standard Deviation is Rs 225.0 Million\n"
     ]
    }
   ],
   "source": [
    "# Variance of profits from two different divisions of a company = SD^2 = SD1^2 + SD2^2\n",
    "SD = np.sqrt((9)+(16))\n",
    "print('Standard Deviation is Rs', SD*45, 'Million')"
   ]
  },
  {
   "cell_type": "code",
   "execution_count": 5,
   "id": "bc9f00bb",
   "metadata": {
    "ExecuteTime": {
     "end_time": "2023-03-18T18:47:46.216873Z",
     "start_time": "2023-03-18T18:47:46.193479Z"
    }
   },
   "outputs": [
    {
     "name": "stdout",
     "output_type": "stream",
     "text": [
      "Range is Rs (99.00810347848784, 980.9918965215122) in Millions\n"
     ]
    }
   ],
   "source": [
    "# A. Specify a Rupee range (centered on the mean) such that it contains 95% probability for the annual profit of the company.\n",
    "print('Range is Rs',(stats.norm.interval(0.95,540,225)),'in Millions')"
   ]
  },
  {
   "cell_type": "code",
   "execution_count": 6,
   "id": "63041751",
   "metadata": {
    "ExecuteTime": {
     "end_time": "2023-03-18T18:47:53.892236Z",
     "start_time": "2023-03-18T18:47:53.873092Z"
    }
   },
   "outputs": [
    {
     "name": "stdout",
     "output_type": "stream",
     "text": [
      "5th percentile of profit (in Million Rupees) is 170.0\n"
     ]
    }
   ],
   "source": [
    "# B. Specify the 5th percentile of profit (in Rupees) for the company\n",
    "# To compute 5th Percentile, we use the formula X=μ + Zσ; wherein from z table, 5 percentile = -1.645\n",
    "X= 540+(-1.645)*(225)\n",
    "print('5th percentile of profit (in Million Rupees) is',np.round(X,))"
   ]
  },
  {
   "cell_type": "code",
   "execution_count": 7,
   "id": "462aeca4",
   "metadata": {
    "ExecuteTime": {
     "end_time": "2023-03-18T18:48:02.550644Z",
     "start_time": "2023-03-18T18:48:02.528648Z"
    }
   },
   "outputs": [],
   "source": [
    "# C. Which of the two divisions has a larger probability of making a loss in a given year?\n"
   ]
  },
  {
   "cell_type": "code",
   "execution_count": 8,
   "id": "7993a5e0",
   "metadata": {
    "ExecuteTime": {
     "end_time": "2023-03-18T18:48:10.297261Z",
     "start_time": "2023-03-18T18:48:10.260478Z"
    }
   },
   "outputs": [
    {
     "data": {
      "text/plain": [
       "0.0477903522728147"
      ]
     },
     "execution_count": 8,
     "metadata": {},
     "output_type": "execute_result"
    }
   ],
   "source": [
    "# Probability of Division 1 making a loss P(X<0)\n",
    "stats.norm.cdf(0,5,3)"
   ]
  },
  {
   "cell_type": "code",
   "execution_count": 9,
   "id": "0d322e08",
   "metadata": {
    "ExecuteTime": {
     "end_time": "2023-03-18T18:48:17.166775Z",
     "start_time": "2023-03-18T18:48:17.142999Z"
    }
   },
   "outputs": [
    {
     "data": {
      "text/plain": [
       "0.040059156863817086"
      ]
     },
     "execution_count": 9,
     "metadata": {},
     "output_type": "execute_result"
    }
   ],
   "source": [
    "# Probability of Division 2 making a loss P(X<0)\n",
    "stats.norm.cdf(0,7,4)\n",
    "\n"
   ]
  },
  {
   "cell_type": "code",
   "execution_count": null,
   "id": "f3ebfbb6",
   "metadata": {},
   "outputs": [],
   "source": []
  }
 ],
 "metadata": {
  "kernelspec": {
   "display_name": "Python 3 (ipykernel)",
   "language": "python",
   "name": "python3"
  },
  "language_info": {
   "codemirror_mode": {
    "name": "ipython",
    "version": 3
   },
   "file_extension": ".py",
   "mimetype": "text/x-python",
   "name": "python",
   "nbconvert_exporter": "python",
   "pygments_lexer": "ipython3",
   "version": "3.9.12"
  }
 },
 "nbformat": 4,
 "nbformat_minor": 5
}
