{
 "cells": [
  {
   "cell_type": "code",
   "execution_count": null,
   "id": "51f2b2a0",
   "metadata": {
    "ExecuteTime": {
     "start_time": "2023-01-31T04:17:45.797Z"
    }
   },
   "outputs": [],
   "source": [
    "import pandas as pd\n",
    "import numpy as np\n",
    "import seaborn as sns\n",
    "from matplotlib import pyplot as plt\n",
    "from sklearn.metrics import pairwise_distances\n",
    "from scipy.spatial.distance import cosine,correlation"
   ]
  },
  {
   "cell_type": "code",
   "execution_count": null,
   "id": "b6644d50",
   "metadata": {
    "ExecuteTime": {
     "start_time": "2023-01-31T04:17:49.375Z"
    }
   },
   "outputs": [],
   "source": [
    "dt = pd.read_csv(r\"C:\\Users\\User\\Downloads\\book.csv\", encoding='cp1252')\n",
    "dt"
   ]
  },
  {
   "cell_type": "code",
   "execution_count": null,
   "id": "edf57171",
   "metadata": {
    "ExecuteTime": {
     "start_time": "2023-01-31T04:21:41.749Z"
    }
   },
   "outputs": [],
   "source": [
    "dt2 = dt.iloc[:,1:]\n",
    "dt2"
   ]
  },
  {
   "cell_type": "code",
   "execution_count": null,
   "id": "91c62437",
   "metadata": {
    "ExecuteTime": {
     "start_time": "2023-01-31T04:22:01.577Z"
    }
   },
   "outputs": [],
   "source": [
    "dt2.sort_values(['User.ID'])"
   ]
  },
  {
   "cell_type": "code",
   "execution_count": null,
   "id": "6c7a4815",
   "metadata": {
    "ExecuteTime": {
     "start_time": "2023-01-31T04:22:17.390Z"
    }
   },
   "outputs": [],
   "source": [
    "len(dt2['User.ID'].unique())"
   ]
  },
  {
   "cell_type": "code",
   "execution_count": null,
   "id": "92e248b0",
   "metadata": {
    "ExecuteTime": {
     "start_time": "2023-01-31T04:22:29.074Z"
    }
   },
   "outputs": [],
   "source": [
    "len(dt2['Book.Title'].unique())"
   ]
  },
  {
   "cell_type": "code",
   "execution_count": null,
   "id": "75fe8e16",
   "metadata": {
    "ExecuteTime": {
     "start_time": "2023-01-31T04:22:44.261Z"
    }
   },
   "outputs": [],
   "source": [
    "dt3 = dt2.pivot_table(index='User.ID',columns='Book.Title',values='Book.Rating').reset_index()\n",
    "dt3"
   ]
  },
  {
   "cell_type": "code",
   "execution_count": null,
   "id": "483bf541",
   "metadata": {
    "ExecuteTime": {
     "start_time": "2023-01-31T04:23:07.810Z"
    }
   },
   "outputs": [],
   "source": [
    "dt3.index = dt2['User.ID'].unique()\n",
    "dt3"
   ]
  },
  {
   "cell_type": "code",
   "execution_count": null,
   "id": "02ae86cb",
   "metadata": {
    "ExecuteTime": {
     "start_time": "2023-01-31T04:23:21.818Z"
    }
   },
   "outputs": [],
   "source": [
    "dt3.fillna(0, inplace=True)\n",
    "dt3"
   ]
  },
  {
   "cell_type": "code",
   "execution_count": null,
   "id": "58fd0d12",
   "metadata": {
    "ExecuteTime": {
     "start_time": "2023-01-31T04:23:40.071Z"
    }
   },
   "outputs": [],
   "source": [
    "#calculating cosine similarity between users and array \n",
    "user = 1-pairwise_distances(dt3.values,metric='cosine')\n",
    "user"
   ]
  },
  {
   "cell_type": "code",
   "execution_count": null,
   "id": "4a194ace",
   "metadata": {
    "ExecuteTime": {
     "start_time": "2023-01-31T04:23:51.771Z"
    }
   },
   "outputs": [],
   "source": [
    "# In Dataframe\n",
    "user2 = pd.DataFrame(user)\n",
    "user2"
   ]
  },
  {
   "cell_type": "code",
   "execution_count": null,
   "id": "c5fd6a95",
   "metadata": {
    "ExecuteTime": {
     "start_time": "2023-01-31T04:24:04.520Z"
    }
   },
   "outputs": [],
   "source": [
    "user2.index = dt2['User.ID'].unique()\n",
    "user2.columns = dt2['User.ID'].unique()\n",
    "user2"
   ]
  },
  {
   "cell_type": "code",
   "execution_count": null,
   "id": "2252e71e",
   "metadata": {
    "ExecuteTime": {
     "start_time": "2023-01-31T04:24:17.722Z"
    }
   },
   "outputs": [],
   "source": [
    "# Nullifying diagonal values\n",
    "np.fill_diagonal(user,0)\n",
    "user2\n"
   ]
  },
  {
   "cell_type": "code",
   "execution_count": null,
   "id": "a904bc25",
   "metadata": {
    "ExecuteTime": {
     "start_time": "2023-01-31T04:24:44.653Z"
    }
   },
   "outputs": [],
   "source": [
    "user2.idxmax(axis=1)"
   ]
  },
  {
   "cell_type": "code",
   "execution_count": null,
   "id": "a318bac3",
   "metadata": {
    "ExecuteTime": {
     "start_time": "2023-01-31T04:24:58.663Z"
    }
   },
   "outputs": [],
   "source": [
    "# extract the books which userId 276729 & 276726 have watched\n",
    "dt2[(dt2['User.ID']==276729) | (dt2['User.ID']==276726)]"
   ]
  },
  {
   "cell_type": "code",
   "execution_count": null,
   "id": "8841690a",
   "metadata": {
    "ExecuteTime": {
     "start_time": "2023-01-31T04:25:11.380Z"
    }
   },
   "outputs": [],
   "source": [
    "user_1=dt2[(dt2['User.ID']==276729)]\n",
    "user_2=dt2[(dt2['User.ID']==276726)]\n"
   ]
  },
  {
   "cell_type": "code",
   "execution_count": null,
   "id": "125c78fb",
   "metadata": {
    "ExecuteTime": {
     "start_time": "2023-01-31T04:25:23.124Z"
    }
   },
   "outputs": [],
   "source": [
    "user_1['Book.Title']"
   ]
  },
  {
   "cell_type": "code",
   "execution_count": null,
   "id": "cfe77a31",
   "metadata": {
    "ExecuteTime": {
     "start_time": "2023-01-31T04:25:34.025Z"
    }
   },
   "outputs": [],
   "source": [
    "user_2['Book.Title']"
   ]
  },
  {
   "cell_type": "code",
   "execution_count": null,
   "id": "1c31217a",
   "metadata": {
    "ExecuteTime": {
     "start_time": "2023-01-31T04:25:48.496Z"
    }
   },
   "outputs": [],
   "source": [
    "pd.merge(user_1,user_2,on='Book.Title',how='outer')"
   ]
  },
  {
   "cell_type": "code",
   "execution_count": null,
   "id": "d2967575",
   "metadata": {},
   "outputs": [],
   "source": []
  },
  {
   "cell_type": "code",
   "execution_count": null,
   "id": "fc7dd8c2",
   "metadata": {},
   "outputs": [],
   "source": []
  },
  {
   "cell_type": "code",
   "execution_count": null,
   "id": "40cb5c6f",
   "metadata": {},
   "outputs": [],
   "source": []
  },
  {
   "cell_type": "code",
   "execution_count": null,
   "id": "5a869c98",
   "metadata": {},
   "outputs": [],
   "source": []
  },
  {
   "cell_type": "code",
   "execution_count": null,
   "id": "e5923b84",
   "metadata": {},
   "outputs": [],
   "source": []
  },
  {
   "cell_type": "code",
   "execution_count": null,
   "id": "64bfa5ab",
   "metadata": {},
   "outputs": [],
   "source": []
  }
 ],
 "metadata": {
  "kernelspec": {
   "display_name": "Python 3 (ipykernel)",
   "language": "python",
   "name": "python3"
  },
  "language_info": {
   "codemirror_mode": {
    "name": "ipython",
    "version": 3
   },
   "file_extension": ".py",
   "mimetype": "text/x-python",
   "name": "python",
   "nbconvert_exporter": "python",
   "pygments_lexer": "ipython3",
   "version": "3.9.13"
  }
 },
 "nbformat": 4,
 "nbformat_minor": 5
}
